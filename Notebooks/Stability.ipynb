{
 "cells": [
  {
   "cell_type": "markdown",
   "metadata": {},
   "source": [
    "# Stability of Epicyclic Orbits in the Binary Potential\n",
    "\n",
    "Having arrived at an approximate solution for orbits in a binary potential, we look towards studying the stability of these perturbed orbits. This is important as in the hydrodynamic picture, the test particle is replaced with with a fluid element which occupies an infinitesimal area centred about the test particle. The propagation of small perturbations about the test particle orbit, especially over timescales shorter than the viscous timescale, provides an important insight into the effect of the binary potential on fluid elements.\n",
    "\n",
    "To revise the concepts of orbital stability, Lyapunov exponents and decay timescales, we examine this infrastructure under a general Hamiltonian, following the introduction in [Cornish & Levin](https://arxiv.org/pdf/gr-qc/0304056.pdf). We then apply this to the Kepler potential first before incorporating the binary elements in subsequent sections.\n",
    "\n",
    "## Orbital Stability in the Hamiltonian Picture\n",
    "\n",
    "For a given set of phase space variables $\\eta$, the Hamilton's equation of motion is given in the symplectic form as (cf Goldstein Eq 8.39):\n",
    "\n",
    "$$\n",
    "\\dot{eta}_i = \\bar{\\mathbf{I}}_{ij}\\frac{\\partial\\mathcal{H}}{\\partial\\eta_j}\n",
    "$$\n",
    "\n",
    "If $\\eta$ represented a solution to the above the above equations and we wish to find a solution $\\eta' = \\eta + \\delta \\eta$ that represents a small perturbation of the initial conditions. We can linearize the above equations of motion to get:\n",
    "\n",
    "$$\n",
    "\\dot{\\delta\\eta}_i = \\bar{\\mathbf{I}}_{ij}\\frac{\\partial^2\\mathcal{H}}{\\partial\\eta_j\\partial\\eta_k}\\delta\\eta_k\n",
    "$$\n",
    "\n",
    "Thus, the propagation of a small initial perturbation $\\delta\\eta$ is given by the matrix equation:\n",
    "\n",
    "$$\n",
    "\\dot{\\delta\\eta} = \\mathbf{K}\\delta\\eta\\\\\n",
    "K_{ij} = \\bar{\\mathbf{I}}_im\\frac{\\partial^2\\mathcal{H}}{\\partial\\eta_m\\partial\\eta_j}\n",
    "$$\n",
    "\n",
    "For equations such as above, the inverse of the eigenvalues ($\\lambda$) of the matrix $\\mathbf{K}$ give the timescales over which the perturbations significantly decay (if $\\lambda < 0$), blow up (if $\\lambda > 0$) or the period over which the perturbations oscillate about the initial bound (if $\\lambda$ imaginary). In mechanics, these eigenvalues are called the Lyapunov Exponents of the system. Additionally, the Eigenvectors corresponding to these Eigenvalues also provide important information as they represent the nature of the perturbation associated with each of these timescales. This is particularly important as a particular orbit may be \"metastable\" which indicates that one particular set of perturbations tend to decay while an orthogonal set of perturbations may blow up. In such a case, while the orbit as such is not stable, particles may be bound to those orbits so long as they are subject to a particular subset of perturbations and not others.\n",
    "\n",
    "We finally note that the matrix \\mathbf{K} is evaluated at the original orbit $\\eta$. Since orbits are diverse in nature, it is useful to study the stability of particular \"families\" of orbits. Thus, one can always substitute for $\\eta$ a particular solution and compute Lyapunov exponents for those particular solutions to make conclusions restricted to them.\n",
    "\n",
    "## Lyapunov Exponents for Circular Orbits in the Kepler Problem\n",
    "\n",
    "Here, we define the Hamiltonian for the Kepler problem:\n",
    "\n",
    "$$\n",
    "\\mathcal{H} = \\frac{p_r^2}{2} + \\frac{p_\\phi^2}{2r^2} - \\frac{1}{r}\n",
    "$$\n",
    "\n",
    "For this, the $\\mathbf{K}$ matrix reads (for a circular orbit at $r$):\n",
    "\n",
    "$$\n",
    "\\left(\n",
    "\\begin{array}{cccc}\n",
    " 0 & 0 & 1 & 0 \\\\\n",
    " -\\frac{2}{r^{5/2}} & 0 & 0 & \\frac{1}{r^2} \\\\\n",
    " -\\frac{1}{r^3} & 0 & 0 & \\frac{2}{r^{5/2}} \\\\\n",
    " 0 & 0 & 0 & 0 \\\\\n",
    "\\end{array}\n",
    "\\right)\n",
    "$$\n",
    "\n",
    "This matrix has three Eigenvalues $(0,i\\omega,-i\\omega)$, where $\\omega = r^{-3/2}$ is the Kepler frequency at $r$. While computing Eigenvectors for this system is not possible since the matric cannot be fully diagonalized, we can aassociate the individual Eigenalues with particular sets of perturbations. The degenerate Eigenvalue ($\\lambda = 0$) corresponds to static perturbations, one of which we know from the symmetry of the problem is a purely azimuthal translation while the other corresponds to an \"adjacent\" circular orbit (Check this by manually multiplying $\\mathbf{K}$ by $(1,0,0,1/2\\sqrt{r})$). The other two eigenmodes corresponding to epicyclic orbits, i.e, orbits with the same semi-major axis but with infinitesimally small eccentricities. The analysis in [Cornish & Levin](https://arxiv.org/pdf/gr-qc/0304056.pdf) computes the Lyapunov exponent for the Schwarzschild metric after reducing to a 1-d problem by eliminating the azimuth and angular momentum. This approach was not used here as the there is a splitting of the degenerate Eigenvalues upon including the binary potential which breaks axisymmetry which we will see in the next section.\n",
    "\n",
    "## Lyapunov Exponents for the Epicyclic Orbits\n",
    "\n",
    "In the case of the binary potential, our Keplerian Hamiltonian has been replaced by "
   ]
  },
  {
   "cell_type": "code",
   "execution_count": null,
   "metadata": {},
   "outputs": [],
   "source": []
  }
 ],
 "metadata": {
  "kernelspec": {
   "display_name": "Python 3",
   "language": "python",
   "name": "python3"
  },
  "language_info": {
   "codemirror_mode": {
    "name": "ipython",
    "version": 3
   },
   "file_extension": ".py",
   "mimetype": "text/x-python",
   "name": "python",
   "nbconvert_exporter": "python",
   "pygments_lexer": "ipython3",
   "version": "3.7.1"
  }
 },
 "nbformat": 4,
 "nbformat_minor": 2
}
